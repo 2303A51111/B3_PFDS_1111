{
  "nbformat": 4,
  "nbformat_minor": 0,
  "metadata": {
    "colab": {
      "provenance": [],
      "authorship_tag": "ABX9TyMgSIBgScGRkPdSyJk26rXu",
      "include_colab_link": true
    },
    "kernelspec": {
      "name": "python3",
      "display_name": "Python 3"
    },
    "language_info": {
      "name": "python"
    }
  },
  "cells": [
    {
      "cell_type": "markdown",
      "metadata": {
        "id": "view-in-github",
        "colab_type": "text"
      },
      "source": [
        "<a href=\"https://colab.research.google.com/github/2303A51111/B3_PFDS_1111/blob/main/LAB_03_AUG_14th.ipynb\" target=\"_parent\"><img src=\"https://colab.research.google.com/assets/colab-badge.svg\" alt=\"Open In Colab\"/></a>"
      ]
    },
    {
      "cell_type": "code",
      "source": [
        "import numpy as np\n",
        "A=[[3,4],[7,4]]\n",
        "B=[[13,4],[43,7]]\n",
        "C=np.array(A)\n",
        "D=np.array(B)\n",
        "print(\"Matrix 1\\n\",C)\n",
        "print(\"Matrix 2\\n\",D)\n",
        "\n",
        "Add = np.add(A,B)\n",
        "\n",
        "print(\"Addition Result\\n\",Add)\n",
        "\n",
        "Sub= np.subtract(A,B)\n",
        "\n",
        "print(\"Subtraction Result\\n\",Sub)"
      ],
      "metadata": {
        "colab": {
          "base_uri": "https://localhost:8080/"
        },
        "id": "nmmwDfMB6UcL",
        "outputId": "ea004bbd-e848-4b7f-ad53-4889d62aa016"
      },
      "execution_count": 3,
      "outputs": [
        {
          "output_type": "stream",
          "name": "stdout",
          "text": [
            "Matrix 1\n",
            " [[3 4]\n",
            " [7 4]]\n",
            "Matrix 2\n",
            " [[13  4]\n",
            " [43  7]]\n",
            "Addition Result\n",
            " [[16  8]\n",
            " [50 11]]\n",
            "Subtraction Result\n",
            " [[-10   0]\n",
            " [-36  -3]]\n"
          ]
        }
      ]
    },
    {
      "cell_type": "code",
      "source": [
        "import numpy as np\n",
        "M=[[3,4,5],[7,4,8],[34,6,4]]\n",
        "N=[[13,4,8],[43,7,1],[23,87,5]]\n",
        "P=np.array(M)\n",
        "Q=np.array(N)\n",
        "print(\"Matrix 1\\n\",P)\n",
        "print(\"Matrix 2\\n\",Q)\n",
        "\n",
        "Add = np.add(M,N)\n",
        "\n",
        "print(\"Addition Result\\n\",Add)\n",
        "\n",
        "Sub= np.subtract(M,N)\n",
        "\n",
        "print(\"Subtraction Result\\n\",Sub)"
      ],
      "metadata": {
        "colab": {
          "base_uri": "https://localhost:8080/"
        },
        "id": "zwMu98Na791p",
        "outputId": "f8547fb6-ec15-454d-ada4-d39f23df198f"
      },
      "execution_count": 4,
      "outputs": [
        {
          "output_type": "stream",
          "name": "stdout",
          "text": [
            "Matrix 1\n",
            " [[ 3  4  5]\n",
            " [ 7  4  8]\n",
            " [34  6  4]]\n",
            "Matrix 2\n",
            " [[13  4  8]\n",
            " [43  7  1]\n",
            " [23 87  5]]\n",
            "Addition Result\n",
            " [[16  8 13]\n",
            " [50 11  9]\n",
            " [57 93  9]]\n",
            "Subtraction Result\n",
            " [[-10   0  -3]\n",
            " [-36  -3   7]\n",
            " [ 11 -81  -1]]\n"
          ]
        }
      ]
    },
    {
      "cell_type": "code",
      "source": [
        "import numpy as np\n",
        "import matplotlib.pyplot as plt\n",
        "\n",
        "X=np.array([[3,4,8],[6,9,2]])\n",
        "Y=np.array([[4,7],[9,3],[6,9]])\n",
        "\n",
        "print(X)\n",
        "print(Y)\n",
        "\n",
        "Z=np.dot(X,Y)\n",
        "print(Z)\n",
        "\n"
      ],
      "metadata": {
        "colab": {
          "base_uri": "https://localhost:8080/"
        },
        "id": "55mZD_k1ASvh",
        "outputId": "1b265c77-deb2-4b03-e9f2-f9d66784b959"
      },
      "execution_count": 5,
      "outputs": [
        {
          "output_type": "stream",
          "name": "stdout",
          "text": [
            "[[3 4 8]\n",
            " [6 9 2]]\n",
            "[[4 7]\n",
            " [9 3]\n",
            " [6 9]]\n",
            "[[ 96 105]\n",
            " [117  87]]\n"
          ]
        }
      ]
    }
  ]
}