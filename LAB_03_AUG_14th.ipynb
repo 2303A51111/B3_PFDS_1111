{
  "nbformat": 4,
  "nbformat_minor": 0,
  "metadata": {
    "colab": {
      "provenance": [],
      "authorship_tag": "ABX9TyMZpO71wtNXog31YD34rRxS",
      "include_colab_link": true
    },
    "kernelspec": {
      "name": "python3",
      "display_name": "Python 3"
    },
    "language_info": {
      "name": "python"
    }
  },
  "cells": [
    {
      "cell_type": "markdown",
      "metadata": {
        "id": "view-in-github",
        "colab_type": "text"
      },
      "source": [
        "<a href=\"https://colab.research.google.com/github/2303A51111/B3_PFDS_1111/blob/main/LAB_03_AUG_14th.ipynb\" target=\"_parent\"><img src=\"https://colab.research.google.com/assets/colab-badge.svg\" alt=\"Open In Colab\"/></a>"
      ]
    },
    {
      "cell_type": "code",
      "source": [
        "import numpy as np\n",
        "A=[[3,4],[7,4],[8,2]]\n",
        "B=[[13,4],[43,7],[32,9]]\n",
        "C=np.array(A)\n",
        "D=np.array(B)\n",
        "print(\"Matrix 1\\n\",C)\n",
        "print(\"Matrix 2\\n\",D)\n",
        "\n",
        "Add = np.add(A,B)\n",
        "\n",
        "print(\"Addition Result\\n\",Add)\n",
        "\n",
        "Sub= np.subtract(A,B)\n",
        "\n",
        "print(\"Subtraction Result\\n\",Sub)"
      ],
      "metadata": {
        "colab": {
          "base_uri": "https://localhost:8080/"
        },
        "id": "nmmwDfMB6UcL",
        "outputId": "42876fa5-9085-458c-ecde-c003fd36082f"
      },
      "execution_count": 2,
      "outputs": [
        {
          "output_type": "stream",
          "name": "stdout",
          "text": [
            "Matrix 1\n",
            " [[3 4]\n",
            " [7 4]\n",
            " [8 2]]\n",
            "Matrix 2\n",
            " [[13  4]\n",
            " [43  7]\n",
            " [32  9]]\n",
            "Addition Result\n",
            " [[16  8]\n",
            " [50 11]\n",
            " [40 11]]\n",
            "Subtraction Result\n",
            " [[-10   0]\n",
            " [-36  -3]\n",
            " [-24  -7]]\n"
          ]
        }
      ]
    }
  ]
}