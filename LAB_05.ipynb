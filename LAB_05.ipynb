{
  "nbformat": 4,
  "nbformat_minor": 0,
  "metadata": {
    "colab": {
      "provenance": [],
      "authorship_tag": "ABX9TyM85+rOgJ42wc9MS3Kfb2Nf",
      "include_colab_link": true
    },
    "kernelspec": {
      "name": "python3",
      "display_name": "Python 3"
    },
    "language_info": {
      "name": "python"
    }
  },
  "cells": [
    {
      "cell_type": "markdown",
      "metadata": {
        "id": "view-in-github",
        "colab_type": "text"
      },
      "source": [
        "<a href=\"https://colab.research.google.com/github/2303A51111/B3_PFDS_1111/blob/main/LAB_05.ipynb\" target=\"_parent\"><img src=\"https://colab.research.google.com/assets/colab-badge.svg\" alt=\"Open In Colab\"/></a>"
      ]
    },
    {
      "cell_type": "code",
      "execution_count": 1,
      "metadata": {
        "colab": {
          "base_uri": "https://localhost:8080/"
        },
        "id": "HwznaeY8M06n",
        "outputId": "80afbb56-e594-4d80-ea7a-8b1bdfbadc43"
      },
      "outputs": [
        {
          "output_type": "stream",
          "name": "stdout",
          "text": [
            "Teachers:\n",
            "    tid    tname dept\n",
            "0    1    Alice  CSE\n",
            "1    2      Bob  CSE\n",
            "2    3  Charlie   AI\n",
            "3    4    David  CSE \n",
            "\n",
            "Courses:\n",
            "    cid          cname  tid\n",
            "0  101         Python    1\n",
            "1  102           DBMS    2\n",
            "2  103      AI Basics    2\n",
            "3  104             ML    3\n",
            "4  105             OS    4\n",
            "5  106  Deep Learning    3\n",
            "\n",
            "Inner Join:\n",
            "    cid          cname  tid    tname dept\n",
            "0  101         Python    1    Alice  CSE\n",
            "1  102           DBMS    2      Bob  CSE\n",
            "2  103      AI Basics    2      Bob  CSE\n",
            "3  104             ML    3  Charlie   AI\n",
            "4  105             OS    4    David  CSE\n",
            "5  106  Deep Learning    3  Charlie   AI\n",
            "\n",
            "Left Join:\n",
            "    tid    tname dept  cid          cname\n",
            "0    1    Alice  CSE  101         Python\n",
            "1    2      Bob  CSE  102           DBMS\n",
            "2    2      Bob  CSE  103      AI Basics\n",
            "3    3  Charlie   AI  104             ML\n",
            "4    3  Charlie   AI  106  Deep Learning\n",
            "5    4    David  CSE  105             OS\n"
          ]
        }
      ],
      "source": [
        "import pandas as pd\n",
        "\n",
        "t = pd.DataFrame({\n",
        "    'tid': [1, 2, 3, 4],\n",
        "    'tname': ['Alice', 'Bob', 'Charlie', 'David'],\n",
        "    'dept': ['CSE', 'CSE', 'AI', 'CSE']\n",
        "})\n",
        "\n",
        "c = pd.DataFrame({\n",
        "    'cid': [101, 102, 103, 104, 105, 106],\n",
        "    'cname': ['Python', 'DBMS', 'AI Basics', 'ML', 'OS', 'Deep Learning'],\n",
        "    'tid': [1, 2, 2, 3, 4, 3]\n",
        "})\n",
        "\n",
        "print(\"Teachers:\\n\", t, \"\\n\")\n",
        "print(\"Courses:\\n\", c)\n",
        "\n",
        "im = pd.merge(c, t, on='tid', how='inner')\n",
        "lm = pd.merge(t, c, on='tid', how='left')\n",
        "\n",
        "print(\"\\nInner Join:\\n\", im)\n",
        "print(\"\\nLeft Join:\\n\", lm)"
      ]
    },
    {
      "cell_type": "code",
      "source": [
        "import pandas as pd\n",
        "\n",
        "t = pd.DataFrame({\n",
        "    'tid': [1, 2, 3, 4],\n",
        "    'tname': ['Alice', 'Bob', 'Charlie', 'David'],\n",
        "    'dept': ['CSE', 'CSE', 'AI', 'CSE']\n",
        "})\n",
        "\n",
        "c = pd.DataFrame({\n",
        "    'cid': [101, 102, 103, 104, 105, 106],\n",
        "    'cname': ['Python', 'DBMS', 'AI Basics', 'ML', 'OS', 'Deep Learning'],\n",
        "    'tid': [1, 2, 2, 3, 4, 3]\n",
        "})\n",
        "\n",
        "print(\"Teachers:\\n\", t, \"\\n\")\n",
        "print(\"Courses:\\n\", c)\n",
        "\n",
        "im = pd.merge(c, t, on='tid', how='inner')\n",
        "lm = pd.merge(t, c, on='tid', how='left')\n",
        "\n",
        "print(\"\\nInner Join:\\n\", im)\n",
        "print(\"\\nLeft Join:\\n\", lm)"
      ],
      "metadata": {
        "colab": {
          "base_uri": "https://localhost:8080/"
        },
        "id": "lOZkcUogM57z",
        "outputId": "f5eddd13-a206-4c49-b471-b17b0ba99dcc"
      },
      "execution_count": 2,
      "outputs": [
        {
          "output_type": "stream",
          "name": "stdout",
          "text": [
            "Teachers:\n",
            "    tid    tname dept\n",
            "0    1    Alice  CSE\n",
            "1    2      Bob  CSE\n",
            "2    3  Charlie   AI\n",
            "3    4    David  CSE \n",
            "\n",
            "Courses:\n",
            "    cid          cname  tid\n",
            "0  101         Python    1\n",
            "1  102           DBMS    2\n",
            "2  103      AI Basics    2\n",
            "3  104             ML    3\n",
            "4  105             OS    4\n",
            "5  106  Deep Learning    3\n",
            "\n",
            "Inner Join:\n",
            "    cid          cname  tid    tname dept\n",
            "0  101         Python    1    Alice  CSE\n",
            "1  102           DBMS    2      Bob  CSE\n",
            "2  103      AI Basics    2      Bob  CSE\n",
            "3  104             ML    3  Charlie   AI\n",
            "4  105             OS    4    David  CSE\n",
            "5  106  Deep Learning    3  Charlie   AI\n",
            "\n",
            "Left Join:\n",
            "    tid    tname dept  cid          cname\n",
            "0    1    Alice  CSE  101         Python\n",
            "1    2      Bob  CSE  102           DBMS\n",
            "2    2      Bob  CSE  103      AI Basics\n",
            "3    3  Charlie   AI  104             ML\n",
            "4    3  Charlie   AI  106  Deep Learning\n",
            "5    4    David  CSE  105             OS\n"
          ]
        }
      ]
    }
  ]
}